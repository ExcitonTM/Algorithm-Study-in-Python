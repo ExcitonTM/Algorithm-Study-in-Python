{
 "cells": [
  {
   "cell_type": "code",
   "execution_count": 1,
   "metadata": {},
   "outputs": [],
   "source": [
    "import numpy as np\n",
    "import matplotlib.pyplot as plt"
   ]
  },
  {
   "cell_type": "code",
   "execution_count": 2,
   "metadata": {},
   "outputs": [],
   "source": [
    "import itertools \n",
    "def findsubsets(s, n): \n",
    "    return [i for i in itertools.combinations(s, n)] "
   ]
  },
  {
   "cell_type": "code",
   "execution_count": 3,
   "metadata": {},
   "outputs": [],
   "source": [
    "city_locations = np.loadtxt('tsp.txt', skiprows=1)"
   ]
  },
  {
   "cell_type": "code",
   "execution_count": 4,
   "metadata": {},
   "outputs": [],
   "source": [
    "group_1 = city_locations[[0, 1]]"
   ]
  },
  {
   "cell_type": "code",
   "execution_count": 5,
   "metadata": {},
   "outputs": [],
   "source": [
    "group_2 = city_locations[[9, 10]]"
   ]
  },
  {
   "cell_type": "code",
   "execution_count": 6,
   "metadata": {},
   "outputs": [],
   "source": [
    "group_3 = city_locations[[20, 21, 22]]"
   ]
  },
  {
   "cell_type": "code",
   "execution_count": 7,
   "metadata": {},
   "outputs": [
    {
     "data": {
      "text/plain": [
       "<matplotlib.collections.PathCollection at 0x1b5f6de6888>"
      ]
     },
     "execution_count": 7,
     "metadata": {},
     "output_type": "execute_result"
    },
    {
     "data": {
      "image/png": "[encoded data removed]",
      "text/plain": [
       "<Figure size 432x288 with 1 Axes>"
      ]
     },
     "metadata": {
      "needs_background": "light"
     },
     "output_type": "display_data"
    }
   ],
   "source": [
    "x, y = city_locations.T\n",
    "plt.scatter(x, y)"
   ]
  },
  {
   "cell_type": "code",
   "execution_count": 34,
   "metadata": {},
   "outputs": [],
   "source": [
    "city_locations_reduce = np.delete(city_locations, [1, 10], axis=0)"
   ]
  },
  {
   "cell_type": "code",
   "execution_count": 35,
   "metadata": {},
   "outputs": [
    {
     "data": {
      "text/plain": [
       "<matplotlib.collections.PathCollection at 0x1b5f9194148>"
      ]
     },
     "execution_count": 35,
     "metadata": {},
     "output_type": "execute_result"
    },
    {
     "data": {
      "image/png": "[encoded data removed]",
      "text/plain": [
       "<Figure size 432x288 with 1 Axes>"
      ]
     },
     "metadata": {
      "needs_background": "light"
     },
     "output_type": "display_data"
    }
   ],
   "source": [
    "x, y = city_locations_reduce.T\n",
    "plt.scatter(x, y)"
   ]
  },
  {
   "cell_type": "code",
   "execution_count": 36,
   "metadata": {},
   "outputs": [],
   "source": [
    "def compute_dist(city_locations, k, j):\n",
    "    return np.linalg.norm(city_locations[k] - city_locations[j])"
   ]
  },
  {
   "cell_type": "code",
   "execution_count": 37,
   "metadata": {},
   "outputs": [],
   "source": [
    "def held_karp(dists):\n",
    "    \"\"\"\n",
    "    Implementation of Held-Karp, an algorithm that solves the Traveling\n",
    "    Salesman Problem using dynamic programming with memoization.\n",
    "    Parameters:\n",
    "        dists: distance matrix\n",
    "    Returns:\n",
    "        A tuple, (cost, path).\n",
    "    \"\"\"\n",
    "    n = len(dists)\n",
    "\n",
    "    # Maps each subset of the nodes to the cost to reach that subset, as well\n",
    "    # as what node it passed before reaching this subset.\n",
    "    # Node subsets are represented as set bits.\n",
    "    C = {}\n",
    "\n",
    "    # Set transition cost from initial state\n",
    "    for k in range(1, n):\n",
    "        C[(1 << k, k)] = (dists[0][k], 0)\n",
    "\n",
    "    # Iterate subsets of increasing length and store intermediate results\n",
    "    # in classic dynamic programming manner\n",
    "    for subset_size in range(2, n):\n",
    "        print(subset_size)\n",
    "        for subset in itertools.combinations(range(1, n), subset_size):\n",
    "            # Set bits for all nodes in this subset\n",
    "            bits = 0\n",
    "            for bit in subset:\n",
    "                bits |= 1 << bit\n",
    "\n",
    "            # Find the lowest cost to get to this subset\n",
    "            for k in subset:\n",
    "                prev = bits & ~(1 << k)\n",
    "\n",
    "                res = []\n",
    "                for m in subset:\n",
    "                    if m == 0 or m == k:\n",
    "                        continue\n",
    "                    res.append((C[(prev, m)][0] + dists[m][k], m))\n",
    "                C[(bits, k)] = min(res)\n",
    "\n",
    "    # We're interested in all bits but the least significant (the start state)\n",
    "    bits = (2**n - 1) - 1\n",
    "\n",
    "    # Calculate optimal cost\n",
    "    res = []\n",
    "    for k in range(1, n):\n",
    "        res.append((C[(bits, k)][0] + dists[k][0], k))\n",
    "    opt, parent = min(res)\n",
    "\n",
    "    # Backtrack to find full path\n",
    "    path = []\n",
    "    for i in range(n - 1):\n",
    "        path.append(parent)\n",
    "        new_bits = bits & ~(1 << parent)\n",
    "        _, parent = C[(bits, parent)]\n",
    "        bits = new_bits\n",
    "\n",
    "    # Add implicit start state\n",
    "    path.append(0)\n",
    "\n",
    "    return opt, list(reversed(path))"
   ]
  },
  {
   "cell_type": "code",
   "execution_count": 38,
   "metadata": {},
   "outputs": [],
   "source": [
    "n = len(city_locations_reduce)\n",
    "dists_reduce = [[0] * n for i in range(n)]\n",
    "for i in range(n):\n",
    "    for j in range(n):\n",
    "        dists_reduce[i][j] = compute_dist(city_locations_reduce, i, j)"
   ]
  },
  {
   "cell_type": "code",
   "execution_count": 32,
   "metadata": {},
   "outputs": [],
   "source": [
    "n = len(city_locations)\n",
    "dists = [[0] * n for i in range(n)]\n",
    "for i in range(n):\n",
    "    for j in range(n):\n",
    "        dists[i][j] = compute_dist(city_locations, i, j)"
   ]
  },
  {
   "cell_type": "code",
   "execution_count": 39,
   "metadata": {},
   "outputs": [
    {
     "name": "stdout",
     "output_type": "stream",
     "text": [
      "2\n",
      "3\n",
      "4\n",
      "5\n",
      "6\n",
      "7\n",
      "8\n",
      "9\n",
      "10\n",
      "11\n",
      "12\n",
      "13\n",
      "14\n",
      "15\n",
      "16\n",
      "17\n",
      "18\n",
      "19\n",
      "20\n",
      "21\n",
      "22\n"
     ]
    }
   ],
   "source": [
    "opt, path = held_karp(dists_reduce)"
   ]
  },
  {
   "cell_type": "code",
   "execution_count": 40,
   "metadata": {},
   "outputs": [
    {
     "data": {
      "text/plain": [
       "26282.18340049283"
      ]
     },
     "execution_count": 40,
     "metadata": {},
     "output_type": "execute_result"
    }
   ],
   "source": [
    "opt"
   ]
  },
  {
   "cell_type": "code",
   "execution_count": 29,
   "metadata": {},
   "outputs": [
    {
     "data": {
      "text/plain": [
       "[0, 4, 8, 9, 12, 16, 15, 18, 14, 17, 20, 19, 13, 11, 10, 7, 5, 1, 2, 6, 3]"
      ]
     },
     "execution_count": 29,
     "metadata": {},
     "output_type": "execute_result"
    }
   ],
   "source": [
    "path"
   ]
  },
  {
   "cell_type": "code",
   "execution_count": 41,
   "metadata": {},
   "outputs": [
    {
     "data": {
      "text/plain": [
       "26463.437684265213"
      ]
     },
     "execution_count": 41,
     "metadata": {},
     "output_type": "execute_result"
    }
   ],
   "source": [
    "opt + compute_dist(city_locations, 0, 1) + compute_dist(city_locations, 9, 10) "
   ]
  },
  {
   "cell_type": "code",
   "execution_count": 63,
   "metadata": {},
   "outputs": [],
   "source": [
    "path_correct = []\n",
    "for c in path:\n",
    "    if c == 0:\n",
    "        path_correct.append(c)\n",
    "    elif c > 0 and c <= 8:\n",
    "        path_correct.append(c+1)\n",
    "    else:\n",
    "        path_correct.append(c+2)"
   ]
  },
  {
   "cell_type": "code",
   "execution_count": 70,
   "metadata": {},
   "outputs": [
    {
     "name": "stdout",
     "output_type": "stream",
     "text": [
      "26442.73030895475\n"
     ]
    }
   ],
   "source": [
    "total_len = 0\n",
    "for n in range(len(path_correct)-1):\n",
    "    total_len += compute_dist(city_locations, path_correct[n], path_correct[n+1])\n",
    "total_len += compute_dist(city_locations, path_correct[0], path_correct[-1])\n",
    "print(total_len)"
   ]
  },
  {
   "cell_type": "code",
   "execution_count": 68,
   "metadata": {},
   "outputs": [],
   "source": [
    "path_correct.insert(4, 10)"
   ]
  },
  {
   "cell_type": "code",
   "execution_count": 69,
   "metadata": {},
   "outputs": [
    {
     "data": {
      "text/plain": [
       "[0,\n",
       " 1,\n",
       " 5,\n",
       " 9,\n",
       " 10,\n",
       " 11,\n",
       " 14,\n",
       " 18,\n",
       " 17,\n",
       " 21,\n",
       " 22,\n",
       " 20,\n",
       " 16,\n",
       " 19,\n",
       " 24,\n",
       " 23,\n",
       " 15,\n",
       " 13,\n",
       " 12,\n",
       " 8,\n",
       " 6,\n",
       " 2,\n",
       " 3,\n",
       " 7,\n",
       " 4]"
      ]
     },
     "execution_count": 69,
     "metadata": {},
     "output_type": "execute_result"
    }
   ],
   "source": [
    "path_correct"
   ]
  },
  {
   "cell_type": "code",
   "execution_count": null,
   "metadata": {},
   "outputs": [],
   "source": []
  }
 ],
 "metadata": {
  "kernelspec": {
   "display_name": "Python 3",
   "language": "python",
   "name": "python3"
  },
  "language_info": {
   "codemirror_mode": {
    "name": "ipython",
    "version": 3
   },
   "file_extension": ".py",
   "mimetype": "text/x-python",
   "name": "python",
   "nbconvert_exporter": "python",
   "pygments_lexer": "ipython3",
   "version": "3.7.4"
  }
 },
 "nbformat": 4,
 "nbformat_minor": 2
}
