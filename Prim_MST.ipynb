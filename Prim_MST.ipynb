{
 "cells": [
  {
   "cell_type": "code",
   "execution_count": 9,
   "metadata": {},
   "outputs": [],
   "source": [
    "import heapdict as heapdict\n",
    "import numpy as np"
   ]
  },
  {
   "cell_type": "code",
   "execution_count": 10,
   "metadata": {},
   "outputs": [],
   "source": [
    "class MyVertex:\n",
    "    def __init__(self, v):\n",
    "        self.inNeighbors = [] # list of pairs (nbr, wt), where nbr is a CS161Vertex and wt is a weight\n",
    "        self.outNeighbors = [] # same as above\n",
    "        self.value = v\n",
    "        # useful things for Prim's algorithm\n",
    "        self.estD = np.inf\n",
    "        self.parent = None\n",
    "        \n",
    "    def hasOutNeighbor(self,v):\n",
    "        if v in self.getOutNeighbors():\n",
    "            return True\n",
    "        return False\n",
    "        \n",
    "    def hasInNeighbor(self,v):\n",
    "        if v in self.getInNeighbors():\n",
    "            return True\n",
    "        return False\n",
    "    \n",
    "    def hasNeighbor(self,v):\n",
    "        if v in self.getInNeighbors() or v in self.getOutNeighbors():\n",
    "            return True\n",
    "        return False\n",
    "    \n",
    "    def getOutNeighbors(self):\n",
    "        return [ v[0] for v in self.outNeighbors ]\n",
    "    \n",
    "    def getInNeighbors(self):\n",
    "        return [ v[0] for v in self.inNeighbors ]\n",
    "        \n",
    "    def getOutNeighborsWithWeights(self):\n",
    "        return self.outNeighbors\n",
    "    \n",
    "    def getInNeighborsWithWeights(self):\n",
    "        return self.inNeighbors\n",
    "        \n",
    "    def addOutNeighbor(self,v,wt):\n",
    "        self.outNeighbors.append((v,wt))\n",
    "    \n",
    "    def addInNeighbor(self,v,wt):\n",
    "        self.inNeighbors.append((v,wt))\n",
    "    \n",
    "    def __str__(self):\n",
    "        return str(self.value) \n",
    "        \n",
    "# This is a directed graph class for use in CS161.\n",
    "# It can also be used as an undirected graph by adding edges in both directions.\n",
    "class MyGraph:\n",
    "    def __init__(self):\n",
    "        self.vertices = []\n",
    "        \n",
    "    def addVertex(self,n):\n",
    "        self.vertices.append(n)\n",
    "        \n",
    "    # add a directed edge from CS161Node u to CS161Node v\n",
    "    def addDiEdge(self,u,v,wt=1):\n",
    "        u.addOutNeighbor(v,wt=wt)\n",
    "        v.addInNeighbor(u,wt=wt)\n",
    "    \n",
    "    # add edges in both directions between u and v\n",
    "    def addBiEdge(self,u,v,wt=1):\n",
    "        self.addDiEdge(u,v,wt=wt)\n",
    "        self.addDiEdge(v,u,wt=wt)\n",
    "\n",
    "    # get a list of all the directed edges\n",
    "    # directed edges are a list of two vertices and a weight\n",
    "    def getDirEdges(self):\n",
    "        ret = []\n",
    "        for v in self.vertices:\n",
    "            for u, wt in v.getOutNeighborsWithWeights():\n",
    "                ret.append( [v,u,wt] )\n",
    "        return ret\n",
    "    \n",
    "    def __str__(self):\n",
    "        ret = \"CS161Graph with:\\n\"\n",
    "        ret += \"\\t Vertices:\\n\\t\"\n",
    "        for v in self.vertices:\n",
    "            ret += str(v) + \",\"\n",
    "        ret += \"\\n\"\n",
    "        ret += \"\\t Edges:\\n\\t\"\n",
    "        for a,b,wt in self.getDirEdges():\n",
    "            ret += \"(\" + str(a) + \",\" + str(b) + \"; wt:\" + str(wt) + \") \"\n",
    "        ret += \"\\n\"\n",
    "        return ret"
   ]
  },
  {
   "cell_type": "code",
   "execution_count": 52,
   "metadata": {},
   "outputs": [],
   "source": [
    "def load_mst_txt(graph, file_name):\n",
    "    with open(file_name) as f:\n",
    "        title_line = f.readline()\n",
    "        for n in range(int(title_line.split()[0])):\n",
    "            v_n = MyVertex(n+1)\n",
    "            graph.addVertex(v_n)\n",
    "            \n",
    "        for line in f:\n",
    "            line_split = line.split()\n",
    "            v_start = graph.vertices[int(line_split[0])-1]\n",
    "            v_end = graph.vertices[int(line_split[1])-1]\n",
    "            cost = int(line_split[2])\n",
    "            graph.addBiEdge(v_start, v_end, cost)\n"
   ]
  },
  {
   "cell_type": "code",
   "execution_count": 63,
   "metadata": {},
   "outputs": [],
   "source": [
    "def prim(G,w):\n",
    "    for v in G.vertices:\n",
    "        v.estD = np.inf\n",
    "    w.estD = 0\n",
    "    MST = []\n",
    "    unvisitedVertices = heapdict.heapdict()\n",
    "    for v in G.vertices:\n",
    "        unvisitedVertices[v] = v.estD\n",
    "    while len(unvisitedVertices) > 0:\n",
    "        # find the u with the minimum estD, using the heap\n",
    "        u, dist = unvisitedVertices.popitem() \n",
    "        if u.estD == np.inf:\n",
    "            # then there is nothing more that I can reach; this shouldn't happen if the graph is connected\n",
    "            return \"Graph disconnected :(\"\n",
    "        # add u to the MST\n",
    "        if u.parent != None:  # don't do it for the first vertex\n",
    "            MST.append((u.parent,u, dist))\n",
    "        # update u's neighbors\n",
    "        for v,wt in u.getOutNeighborsWithWeights():\n",
    "            if v in unvisitedVertices:\n",
    "                if wt < v.estD:\n",
    "                    v.estD = wt\n",
    "                    unvisitedVertices[v] =  wt #update the key in the heapdict\n",
    "                    v.parent = u # v points to u now\n",
    "    return MST"
   ]
  },
  {
   "cell_type": "code",
   "execution_count": 64,
   "metadata": {},
   "outputs": [],
   "source": [
    "graph = MyGraph()\n",
    "load_mst_txt(graph, 'edges.txt')"
   ]
  },
  {
   "cell_type": "code",
   "execution_count": 65,
   "metadata": {},
   "outputs": [],
   "source": [
    "w = graph.vertices[0]\n",
    "MST = prim(graph,w)"
   ]
  },
  {
   "cell_type": "code",
   "execution_count": 75,
   "metadata": {},
   "outputs": [],
   "source": [
    "total_cost = 0\n",
    "for edge in MST:\n",
    "    total_cost += edge[2]"
   ]
  },
  {
   "cell_type": "code",
   "execution_count": 76,
   "metadata": {},
   "outputs": [
    {
     "data": {
      "text/plain": [
       "-3612829"
      ]
     },
     "execution_count": 76,
     "metadata": {},
     "output_type": "execute_result"
    }
   ],
   "source": [
    "total_cost"
   ]
  },
  {
   "cell_type": "code",
   "execution_count": 77,
   "metadata": {},
   "outputs": [
    {
     "ename": "ModuleNotFoundError",
     "evalue": "No module named 'tensorflow'",
     "output_type": "error",
     "traceback": [
      "\u001b[1;31m---------------------------------------------------------------------------\u001b[0m",
      "\u001b[1;31mModuleNotFoundError\u001b[0m                       Traceback (most recent call last)",
      "\u001b[1;32m<ipython-input-77-64156d691fe5>\u001b[0m in \u001b[0;36m<module>\u001b[1;34m\u001b[0m\n\u001b[1;32m----> 1\u001b[1;33m \u001b[1;32mimport\u001b[0m \u001b[0mtensorflow\u001b[0m \u001b[1;32mas\u001b[0m \u001b[0mtf\u001b[0m\u001b[1;33m\u001b[0m\u001b[1;33m\u001b[0m\u001b[0m\n\u001b[0m",
      "\u001b[1;31mModuleNotFoundError\u001b[0m: No module named 'tensorflow'"
     ]
    }
   ],
   "source": [
    "import tensorflow as tf"
   ]
  },
  {
   "cell_type": "code",
   "execution_count": null,
   "metadata": {},
   "outputs": [],
   "source": []
  }
 ],
 "metadata": {
  "kernelspec": {
   "display_name": "Python 3",
   "language": "python",
   "name": "python3"
  },
  "language_info": {
   "codemirror_mode": {
    "name": "ipython",
    "version": 3
   },
   "file_extension": ".py",
   "mimetype": "text/x-python",
   "name": "python",
   "nbconvert_exporter": "python",
   "pygments_lexer": "ipython3",
   "version": "3.7.4"
  }
 },
 "nbformat": 4,
 "nbformat_minor": 2
}
