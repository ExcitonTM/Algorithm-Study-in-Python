{
 "cells": [
  {
   "cell_type": "code",
   "execution_count": 1,
   "metadata": {},
   "outputs": [],
   "source": [
    "import numpy as np\n",
    "import random\n",
    "import pdb"
   ]
  },
  {
   "cell_type": "markdown",
   "metadata": {},
   "source": [
    "Find second largest in an array. Array size is 2^k"
   ]
  },
  {
   "cell_type": "code",
   "execution_count": 2,
   "metadata": {},
   "outputs": [],
   "source": [
    "def find_first_second_largest(S):\n",
    "    count = 0\n",
    "    if len(S) == 2:\n",
    "        count += 1\n",
    "        return [max(S), min(S), count]\n",
    "    else:\n",
    "        first_1, second_1, count = find_first_second_largest(S[0:len(S)//2])\n",
    "        first_2, second_2, count = find_first_second_largest(S[len(S)//2:len(S)+1])\n",
    "        if first_1 > first_2:\n",
    "            count += 2\n",
    "            return [first_1, max(first_2, second_1), count]\n",
    "        else:\n",
    "            count += 2\n",
    "            return [first_2, max(first_1, second_2), count]"
   ]
  },
  {
   "cell_type": "code",
   "execution_count": 3,
   "metadata": {},
   "outputs": [
    {
     "name": "stdout",
     "output_type": "stream",
     "text": [
      "[88, 24, 26, 0, 31, 40, 19, 0, 95, 96, 55, 60, 98, 26, 86, 45]\n"
     ]
    },
    {
     "data": {
      "text/plain": [
       "[98, 96, 7]"
      ]
     },
     "execution_count": 3,
     "metadata": {},
     "output_type": "execute_result"
    }
   ],
   "source": [
    "S = [random.randint(0,100) for i in range(16)]\n",
    "print(S)\n",
    "find_first_second_largest(S)"
   ]
  },
  {
   "cell_type": "markdown",
   "metadata": {},
   "source": [
    "You are a given a unimodal array of n distinct elements, meaning that its entries are in increasing order up until its maximum element, after which its elements are in decreasing order. Give an algorithm to compute the maximum element that runs in O(log n) time."
   ]
  },
  {
   "cell_type": "code",
   "execution_count": 4,
   "metadata": {},
   "outputs": [],
   "source": [
    "def find_largest_unimodal(S):\n",
    "    if len(S) == 1:\n",
    "        return [S[0], 0]\n",
    "    else:\n",
    "        S_1 = S[0:len(S)//2]\n",
    "        S_2 = S[len(S)//2:len(S)+1]\n",
    "        if S_1[len(S_1)-1] >= S_1[len(S_1)-2]:\n",
    "            if S_2[0] < S_1[len(S_1)-1]:\n",
    "                return [S_1[len(S_1)-1], len(S_1)-1]\n",
    "            else:\n",
    "                largest_2, largest_index_2 = find_largest_unimodal(S_2)\n",
    "                return largest_2, largest_index_2 + len(S_1)\n",
    "        else:\n",
    "            return find_largest_unimodal(S_1)    "
   ]
  },
  {
   "cell_type": "code",
   "execution_count": 5,
   "metadata": {},
   "outputs": [
    {
     "data": {
      "text/plain": [
       "(5, 4)"
      ]
     },
     "execution_count": 5,
     "metadata": {},
     "output_type": "execute_result"
    }
   ],
   "source": [
    "S = [1, 2, 3, 4, 5]\n",
    "find_largest_unimodal(S)"
   ]
  },
  {
   "cell_type": "markdown",
   "metadata": {},
   "source": [
    "You are given a sorted (from smallest to largest) array A of n distinct integers which can be positive, negative, or zero. You want to decide whether or not there is an index i such that A[i] = i. Design the fastest algorithm that you can for solving this problem."
   ]
  },
  {
   "cell_type": "code",
   "execution_count": 21,
   "metadata": {},
   "outputs": [],
   "source": [
    "def determin_index_value_cross(A, index_start):\n",
    "    if len(A) == 1:\n",
    "        return A[0] == index_start\n",
    "    print([A[0], index_start, A[len(A)-1], index_start+len(A)-1])\n",
    "    if (A[0]-index_start) * (A[len(A)-1]-(index_start+len(A)-1)) <= 0:\n",
    "        return True\n",
    "    else:\n",
    "        A_1 = A[0:len(A)//2]\n",
    "        A_2 = A[len(A)//2:len(A)+1]\n",
    "        return determin_index_value_cross(A_1, index_start) or determin_index_value_cross(A_2, index_start+len(A)//2)"
   ]
  },
  {
   "cell_type": "code",
   "execution_count": 22,
   "metadata": {},
   "outputs": [
    {
     "name": "stdout",
     "output_type": "stream",
     "text": [
      "[-3, -3, -3, -3, -2, -1, 0, 2, 2, 5]\n",
      "[-3, 0, 5, 9]\n",
      "[-3, 0, -2, 4]\n",
      "[-3, 0, -3, 1]\n",
      "[-3, 2, -2, 4]\n",
      "[-3, 3, -2, 4]\n",
      "[-1, 5, 5, 9]\n",
      "[-1, 5, 0, 6]\n",
      "[2, 7, 5, 9]\n",
      "[2, 8, 5, 9]\n"
     ]
    },
    {
     "data": {
      "text/plain": [
       "False"
      ]
     },
     "execution_count": 22,
     "metadata": {},
     "output_type": "execute_result"
    }
   ],
   "source": [
    "A = [random.randint(-5,5) for i in range(10)]\n",
    "A.sort()\n",
    "print(A)\n",
    "determin_index_value_cross(A, 0)"
   ]
  },
  {
   "cell_type": "code",
   "execution_count": null,
   "metadata": {},
   "outputs": [],
   "source": []
  },
  {
   "cell_type": "code",
   "execution_count": null,
   "metadata": {},
   "outputs": [],
   "source": []
  }
 ],
 "metadata": {
  "kernelspec": {
   "display_name": "Python 3",
   "language": "python",
   "name": "python3"
  },
  "language_info": {
   "codemirror_mode": {
    "name": "ipython",
    "version": 3
   },
   "file_extension": ".py",
   "mimetype": "text/x-python",
   "name": "python",
   "nbconvert_exporter": "python",
   "pygments_lexer": "ipython3",
   "version": "3.6.9"
  }
 },
 "nbformat": 4,
 "nbformat_minor": 2
}
