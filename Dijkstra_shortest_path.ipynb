{
 "cells": [
  {
   "cell_type": "code",
   "execution_count": 7,
   "metadata": {},
   "outputs": [],
   "source": [
    "import numpy as np"
   ]
  },
  {
   "cell_type": "code",
   "execution_count": 3,
   "metadata": {},
   "outputs": [],
   "source": [
    "def load_dijkstra_txt(file_name):\n",
    "    graph = dict()\n",
    "    with open(file_name) as f:\n",
    "        for line in f:\n",
    "            line_split = line.split()\n",
    "            head = int(line_split[0])\n",
    "            tails = line_split[1:]\n",
    "            \n",
    "            graph[head] = tails\n",
    "            \n",
    "    return graph"
   ]
  },
  {
   "cell_type": "code",
   "execution_count": 4,
   "metadata": {},
   "outputs": [],
   "source": [
    "graph = load_dijkstra_txt('dijkstraData.txt')"
   ]
  },
  {
   "cell_type": "code",
   "execution_count": 17,
   "metadata": {},
   "outputs": [],
   "source": [
    "max_dist = 1e6"
   ]
  },
  {
   "cell_type": "code",
   "execution_count": null,
   "metadata": {},
   "outputs": [],
   "source": [
    "def dijkstra_shortest_path(graph):\n",
    "    all_vertices = list(graph.keys())\n",
    "    \n",
    "    # Start from first vertice\n",
    "    examined_vertices = [all_vertices[0]]\n",
    "    examined_dist = [0]\n",
    "    examined_path = [[all_vertices[0]]]\n",
    "    \n",
    "    unexamined_vertices = [all_vertices[1:]]\n",
    "    unexamined_dist = [max_dist] * len(all_vertices[1:])\n",
    "    unexamined_path = [[]] * len(all_vertices[1:])\n",
    "    \n",
    "    # Main loop\n",
    "    while len(unexamined_vertices) > 0:\n",
    "        v = find_min_path(unexamined_vertices, graph)\n",
    "        # Examine all destinations from last added vertice\n",
    "        v = examined_vertices[-1]\n",
    "        for dest in graph[v]:\n",
    "            dest_split = dest.split(',')\n",
    "            w = dest_split[0]\n",
    "            w_dist = dest_split[1]\n",
    "            \n",
    "            if w in unexamined_vertices:\n",
    "                update_vertice_in_heap(w, unexamined_vertices, unexamined_dist, unexamined_path)"
   ]
  }
 ],
 "metadata": {
  "kernelspec": {
   "display_name": "Python 3",
   "language": "python",
   "name": "python3"
  },
  "language_info": {
   "codemirror_mode": {
    "name": "ipython",
    "version": 3
   },
   "file_extension": ".py",
   "mimetype": "text/x-python",
   "name": "python",
   "nbconvert_exporter": "python",
   "pygments_lexer": "ipython3",
   "version": "3.7.4"
  }
 },
 "nbformat": 4,
 "nbformat_minor": 2
}
