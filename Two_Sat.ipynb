{
 "cells": [
  {
   "cell_type": "code",
   "execution_count": 23,
   "metadata": {},
   "outputs": [],
   "source": [
    "def load_two_Sat_graph(file_name):\n",
    "    clauses = list()\n",
    "    with open(file_name) as f:\n",
    "        header = f.readline()\n",
    "        graph = dict()\n",
    "        r_graph = dict()\n",
    "        for i in range(1, int(header)+1):\n",
    "            graph[i] = []\n",
    "            graph[-i] = []\n",
    "            r_graph[i] = []\n",
    "            r_graph[-i] = []\n",
    "            \n",
    "        for line in f:\n",
    "            line_split = line.split()\n",
    "            x1 = int(line_split[0])\n",
    "            x2 = int(line_split[1])\n",
    "            graph[-x1].append(x2)\n",
    "            graph[-x2].append(x1)\n",
    "            r_graph[x2].append(-x1)\n",
    "            r_graph[x1].append(-x2)\n",
    "            \n",
    "            clauses.append([x1, x2])\n",
    "    return graph, r_graph, clauses"
   ]
  },
  {
   "cell_type": "code",
   "execution_count": 28,
   "metadata": {},
   "outputs": [],
   "source": [
    "def topo_sort(graph):\n",
    "    all_vertices = graph.keys()\n",
    "    explored = {v_i:False for v_i in all_vertices}\n",
    "    order_stack = []\n",
    "    for v_i in all_vertices:\n",
    "        if explored[v_i] is False:\n",
    "            DFS_topo(graph, v_i, explored, order_stack)\n",
    "    return order_stack"
   ]
  },
  {
   "cell_type": "code",
   "execution_count": 29,
   "metadata": {},
   "outputs": [],
   "source": [
    "def DFS_topo(graph, v, explored, order_stack):\n",
    "    explored[v] = True\n",
    "    for w in graph[v]:\n",
    "        if explored[w] is False:\n",
    "            DFS_topo(graph, w, explored, order_stack)\n",
    "    order_stack.append(v)"
   ]
  },
  {
   "cell_type": "code",
   "execution_count": 38,
   "metadata": {},
   "outputs": [],
   "source": [
    "def find_SCC(graph, order_stack):\n",
    "    global SCC_num\n",
    "    SCC_num = 0\n",
    "    SCC_dict = dict()\n",
    "    \n",
    "    all_vertices = graph.keys()\n",
    "    explored = {v_i:False for v_i in all_vertices}\n",
    "    while len(order_stack) > 0:\n",
    "        v = order_stack.pop()\n",
    "        if explored[v] is False:\n",
    "            SCC_num = SCC_num + 1\n",
    "            DFS_SCC(graph, v, explored, SCC_dict)\n",
    "    \n",
    "    return SCC_dict"
   ]
  },
  {
   "cell_type": "code",
   "execution_count": 39,
   "metadata": {},
   "outputs": [],
   "source": [
    "def DFS_SCC(graph, v, explored, SCC_dict):\n",
    "    global SCC_num\n",
    "    SCC_dict[v] = SCC_num\n",
    "    explored[v] = True\n",
    "    for w in graph[v]:\n",
    "        if explored[w] is False:\n",
    "            DFS_SCC(graph, w, explored, SCC_dict) "
   ]
  },
  {
   "cell_type": "code",
   "execution_count": 63,
   "metadata": {},
   "outputs": [],
   "source": [
    "graph, r_graph, clauses = load_two_Sat_graph('2sat6.txt')"
   ]
  },
  {
   "cell_type": "code",
   "execution_count": 64,
   "metadata": {},
   "outputs": [],
   "source": [
    "order_stack = topo_sort(r_graph)"
   ]
  },
  {
   "cell_type": "code",
   "execution_count": 65,
   "metadata": {},
   "outputs": [],
   "source": [
    "SCC_dict = find_SCC(graph, order_stack)"
   ]
  },
  {
   "cell_type": "code",
   "execution_count": 66,
   "metadata": {},
   "outputs": [
    {
     "name": "stdout",
     "output_type": "stream",
     "text": [
      "273101\n",
      "410420\n",
      "976968\n"
     ]
    }
   ],
   "source": [
    "for n in range(1, len(clauses)+1):\n",
    "    if SCC_dict[n] == SCC_dict[-n]:\n",
    "        print(n)"
   ]
  },
  {
   "cell_type": "code",
   "execution_count": 43,
   "metadata": {},
   "outputs": [],
   "source": [
    "testcase1 = {1:[2], 2:[3], 3:[1,4], 4:[5], 5:[6], 6:[4]}\n",
    "r_testcase1 = {1:[3], 2:[1], 3:[2], 4:[3, 6], 5:[4], 6:[5]}"
   ]
  },
  {
   "cell_type": "code",
   "execution_count": 44,
   "metadata": {},
   "outputs": [],
   "source": [
    "test_order = topo_sort(r_testcase1)"
   ]
  },
  {
   "cell_type": "code",
   "execution_count": 45,
   "metadata": {},
   "outputs": [
    {
     "data": {
      "text/plain": [
       "{4: 1, 5: 1, 6: 1, 1: 2, 2: 2, 3: 2}"
      ]
     },
     "execution_count": 45,
     "metadata": {},
     "output_type": "execute_result"
    }
   ],
   "source": [
    "find_SCC(testcase1, test_order)"
   ]
  },
  {
   "cell_type": "code",
   "execution_count": null,
   "metadata": {},
   "outputs": [],
   "source": []
  }
 ],
 "metadata": {
  "kernelspec": {
   "display_name": "Python 3",
   "language": "python",
   "name": "python3"
  },
  "language_info": {
   "codemirror_mode": {
    "name": "ipython",
    "version": 3
   },
   "file_extension": ".py",
   "mimetype": "text/x-python",
   "name": "python",
   "nbconvert_exporter": "python",
   "pygments_lexer": "ipython3",
   "version": "3.7.4"
  }
 },
 "nbformat": 4,
 "nbformat_minor": 2
}
