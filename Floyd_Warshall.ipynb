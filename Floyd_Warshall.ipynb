{
 "cells": [
  {
   "cell_type": "code",
   "execution_count": 5,
   "metadata": {},
   "outputs": [],
   "source": [
    "import numpy as np"
   ]
  },
  {
   "cell_type": "code",
   "execution_count": 6,
   "metadata": {},
   "outputs": [],
   "source": [
    "def load_graph_txt(file_name):\n",
    "    graph = dict()\n",
    "    A = dict()\n",
    "    with open(file_name) as f:\n",
    "        title_line = f.readline()\n",
    "        for n in range(1, int(title_line.split()[0])+1):\n",
    "            graph[n] = []\n",
    "            \n",
    "        for line in f:\n",
    "            line_split = line.split()\n",
    "            graph[int(line_split[0])].append((int(line_split[1]), int(line_split[2])))\n",
    "            A[(0, int(line_split[0]), int(line_split[1]))] = int(line_split[2])\n",
    "            \n",
    "    return graph, A"
   ]
  },
  {
   "cell_type": "code",
   "execution_count": 7,
   "metadata": {},
   "outputs": [],
   "source": [
    "g1, A1 = load_graph_txt('g1.txt')\n",
    "g2, A2 = load_graph_txt('g2.txt')\n",
    "g3, A3 = load_graph_txt('g3.txt')"
   ]
  },
  {
   "cell_type": "code",
   "execution_count": 29,
   "metadata": {},
   "outputs": [],
   "source": [
    "def floyed_warshall_shortest_dist(graph, A):\n",
    "    n = len(graph.keys())\n",
    "    for i in range(1, n+1):\n",
    "        for j in range(1, n+1):\n",
    "            if i == j:\n",
    "                A[(0, i, j)] = 0\n",
    "            if A.get((0, i, j)) is None:\n",
    "                A[(0, i, j)] = np.inf\n",
    "    print('initialized')\n",
    "                \n",
    "    for k in range(1, n+1):\n",
    "        if k % 10 == 0:\n",
    "            print(k)\n",
    "        for i in range(1, n+1):\n",
    "            for j in range(1, n+1):\n",
    "                A[(k%2, i, j)] = min(A[((k-1)%2, i, j)], A[((k-1)%2, i, k)] + A[((k-1)%2, k, j)])\n",
    "                \n",
    "    for i in range(1, n+1):\n",
    "        if A[(n, i, i)] < 0:\n",
    "            return 'Negative Cycle'"
   ]
  },
  {
   "cell_type": "code",
   "execution_count": null,
   "metadata": {},
   "outputs": [
    {
     "name": "stdout",
     "output_type": "stream",
     "text": [
      "initialized\n",
      "10\n",
      "20\n",
      "30\n",
      "40\n",
      "50\n",
      "60\n",
      "70\n"
     ]
    }
   ],
   "source": [
    "floyed_warshall_shortest_dist(g1, A1)"
   ]
  },
  {
   "cell_type": "code",
   "execution_count": null,
   "metadata": {},
   "outputs": [],
   "source": []
  }
 ],
 "metadata": {
  "kernelspec": {
   "display_name": "Python 3",
   "language": "python",
   "name": "python3"
  },
  "language_info": {
   "codemirror_mode": {
    "name": "ipython",
    "version": 3
   },
   "file_extension": ".py",
   "mimetype": "text/x-python",
   "name": "python",
   "nbconvert_exporter": "python",
   "pygments_lexer": "ipython3",
   "version": "3.7.4"
  }
 },
 "nbformat": 4,
 "nbformat_minor": 2
}
