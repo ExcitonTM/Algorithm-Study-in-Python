{
 "cells": [
  {
   "cell_type": "code",
   "execution_count": 1,
   "metadata": {},
   "outputs": [],
   "source": [
    "import numpy as np\n",
    "import random\n",
    "import pdb"
   ]
  },
  {
   "cell_type": "code",
   "execution_count": 35,
   "metadata": {},
   "outputs": [],
   "source": [
    "two_sum_list = np.loadtxt('algo1-programming_prob-2sum.txt')\n",
    "two_sum_list_sorted = sorted(two_sum_list)"
   ]
  },
  {
   "cell_type": "code",
   "execution_count": 36,
   "metadata": {},
   "outputs": [],
   "source": [
    "def find_two_sum(two_sum_list, t):\n",
    "    two_sum_dict = dict()\n",
    "    for idx, val in enumerate(two_sum_list):\n",
    "        match_idx = two_sum_dict.get(val)\n",
    "        if match_idx is None:\n",
    "            two_sum_dict[t-val] = idx\n",
    "        else:\n",
    "            return [idx, match_idx]       \n",
    "    return []"
   ]
  },
  {
   "cell_type": "code",
   "execution_count": 129,
   "metadata": {},
   "outputs": [],
   "source": [
    "def find_two_sum_range(two_sum_list, t_range):\n",
    "    two_sum_list_sorted = sorted(two_sum_list)\n",
    "    t_min = t_range[0]\n",
    "    t_max = t_range[len(t_range)-1]\n",
    "    sum_tracker = [False] * len(t_range)\n",
    "    \n",
    "    low_bound = 0\n",
    "    high_bound = len(two_sum_list_sorted) - 1\n",
    "    \n",
    "    print('done sorting')\n",
    "    while low_bound < high_bound:\n",
    "        #print([low_bound, high_bound])\n",
    "        low_bound_val = two_sum_list_sorted[low_bound]\n",
    "        high_bound_val = two_sum_list_sorted[high_bound]\n",
    "        #print(low_bound_val + high_bound_val)\n",
    "        if low_bound_val + high_bound_val > t_max:\n",
    "            high_bound -= 1\n",
    "        elif low_bound_val + high_bound_val < t_min:\n",
    "            low_bound += 1\n",
    "        else:\n",
    "            for high_idx in range(high_bound, low_bound, -1):\n",
    "                cur_sum = low_bound_val + two_sum_list_sorted[high_idx]\n",
    "                if cur_sum < t_min:\n",
    "                    break\n",
    "                else:\n",
    "                    sum_tracker[int(cur_sum - t_min)] = True\n",
    "                    \n",
    "            for low_idx in range(low_bound, high_bound):\n",
    "                cur_sum = high_bound_val + two_sum_list_sorted[low_idx]\n",
    "                if cur_sum > t_max:\n",
    "                    break\n",
    "                else:\n",
    "                    sum_tracker[int(cur_sum - t_min)] = True\n",
    "                    \n",
    "            high_bound -= 1\n",
    "            low_bound += 1\n",
    "            \n",
    "            \n",
    "    return sum_tracker\n",
    "\n",
    "    "
   ]
  },
  {
   "cell_type": "code",
   "execution_count": 130,
   "metadata": {},
   "outputs": [
    {
     "name": "stdout",
     "output_type": "stream",
     "text": [
      "-10000\n",
      "10000\n"
     ]
    }
   ],
   "source": [
    "t_range = range(-10000, 10001)\n",
    "print(t_range[0])\n",
    "print(t_range[len(t_range)-1])"
   ]
  },
  {
   "cell_type": "code",
   "execution_count": 131,
   "metadata": {},
   "outputs": [
    {
     "name": "stdout",
     "output_type": "stream",
     "text": [
      "done sorting\n"
     ]
    }
   ],
   "source": [
    "sum_tracker = find_two_sum_range(two_sum_list, t_range)"
   ]
  },
  {
   "cell_type": "code",
   "execution_count": 132,
   "metadata": {},
   "outputs": [
    {
     "data": {
      "text/plain": [
       "427"
      ]
     },
     "execution_count": 132,
     "metadata": {},
     "output_type": "execute_result"
    }
   ],
   "source": [
    "np.sum(sum_tracker)"
   ]
  },
  {
   "cell_type": "code",
   "execution_count": null,
   "metadata": {},
   "outputs": [],
   "source": []
  }
 ],
 "metadata": {
  "kernelspec": {
   "display_name": "Python 3",
   "language": "python",
   "name": "python3"
  },
  "language_info": {
   "codemirror_mode": {
    "name": "ipython",
    "version": 3
   },
   "file_extension": ".py",
   "mimetype": "text/x-python",
   "name": "python",
   "nbconvert_exporter": "python",
   "pygments_lexer": "ipython3",
   "version": "3.7.4"
  }
 },
 "nbformat": 4,
 "nbformat_minor": 2
}
