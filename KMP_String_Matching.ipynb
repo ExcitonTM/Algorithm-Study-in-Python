{
 "cells": [
  {
   "cell_type": "code",
   "execution_count": 4,
   "metadata": {},
   "outputs": [],
   "source": [
    "def compute_lps(pattern):\n",
    "    n = len(pattern)\n",
    "    lps = [0] * n\n",
    "    i = 1\n",
    "    j = 0\n",
    "    while i < n:\n",
    "        if pattern[i] == pattern[j]:\n",
    "            lps[i] = j + 1\n",
    "            i += 1\n",
    "            j += 1\n",
    "        else:\n",
    "            if j > 0:\n",
    "                j = lps[j-1]\n",
    "            else:\n",
    "                lps[i] = 0\n",
    "                i += 1\n",
    "    return lps"
   ]
  },
  {
   "cell_type": "code",
   "execution_count": 7,
   "metadata": {},
   "outputs": [
    {
     "data": {
      "text/plain": [
       "[0, 1, 2, 0, 1, 2, 0, 0]"
      ]
     },
     "execution_count": 7,
     "metadata": {},
     "output_type": "execute_result"
    }
   ],
   "source": [
    "pattern = 'aaabaacd'\n",
    "compute_lps(pattern)"
   ]
  },
  {
   "cell_type": "code",
   "execution_count": 18,
   "metadata": {},
   "outputs": [],
   "source": [
    "def KMP_search(s, p):\n",
    "    m = len(s)\n",
    "    n = len(p)\n",
    "    i = 0\n",
    "    j = 0\n",
    "    lps = compute_lps(p)\n",
    "    ans = []\n",
    "    while i < m:\n",
    "        if s[i] == p[j]:\n",
    "            i += 1\n",
    "            j += 1\n",
    "            if j == n:\n",
    "                ans.append(i-j)\n",
    "        else:\n",
    "            if j == 0:\n",
    "                i += 1\n",
    "            else:\n",
    "                j = lps[j-1]\n",
    "                \n",
    "    return ans"
   ]
  },
  {
   "cell_type": "code",
   "execution_count": 17,
   "metadata": {},
   "outputs": [
    {
     "data": {
      "text/plain": [
       "[]"
      ]
     },
     "execution_count": 17,
     "metadata": {},
     "output_type": "execute_result"
    }
   ],
   "source": [
    "s = 'ababcabcabababd'\n",
    "p = 'ababd'\n",
    "KMP_search(s, p)"
   ]
  },
  {
   "cell_type": "code",
   "execution_count": null,
   "metadata": {},
   "outputs": [],
   "source": []
  }
 ],
 "metadata": {
  "kernelspec": {
   "display_name": "Python 3",
   "language": "python",
   "name": "python3"
  },
  "language_info": {
   "codemirror_mode": {
    "name": "ipython",
    "version": 3
   },
   "file_extension": ".py",
   "mimetype": "text/x-python",
   "name": "python",
   "nbconvert_exporter": "python",
   "pygments_lexer": "ipython3",
   "version": "3.7.6"
  }
 },
 "nbformat": 4,
 "nbformat_minor": 4
}
