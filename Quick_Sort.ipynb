{
 "cells": [
  {
   "cell_type": "code",
   "execution_count": 27,
   "metadata": {},
   "outputs": [],
   "source": [
    "import numpy as np\n",
    "import random\n",
    "import pdb"
   ]
  },
  {
   "cell_type": "code",
   "execution_count": 90,
   "metadata": {},
   "outputs": [],
   "source": [
    "def quick_sort(S, l, r):\n",
    "    num_comparison = 0\n",
    "    \n",
    "    if l == r:\n",
    "        return num_comparison\n",
    "    \n",
    "    # Choose Pivot\n",
    "    first = S[l]\n",
    "    last = S[r-1]\n",
    "    mid = S[(r+l-1)//2]\n",
    "    median_of_three_index = np.argsort([first, mid, last])[1]\n",
    "    three_index_list = [l, (r+l-1)//2, r-1]\n",
    "    \n",
    "    \n",
    "    pivot_index = three_index_list[median_of_three_index]\n",
    "    pivot = S[pivot_index]\n",
    "    \n",
    "    \n",
    "    # Pivot swapping\n",
    "    S[pivot_index] = S[l]\n",
    "    S[l] = pivot\n",
    "    \n",
    "    # Partition around pivot\n",
    "    i = l+1\n",
    "    for j in range(l+1, r):\n",
    "        if S[j] < pivot:\n",
    "            S_i_original = S[i]\n",
    "            S[i] = S[j]\n",
    "            S[j] = S_i_original\n",
    "            i += 1\n",
    "    S[l] = S[i-1]\n",
    "    S[i-1] = pivot\n",
    "    \n",
    "    num_comparison += r - l - 1\n",
    "    \n",
    "    num_comparison_l = quick_sort(S, l, i-1)\n",
    "    num_comparison_r = quick_sort(S, i, r)\n",
    "    \n",
    "    num_comparison += num_comparison_l + num_comparison_r\n",
    "    \n",
    "    return num_comparison"
   ]
  },
  {
   "cell_type": "code",
   "execution_count": 91,
   "metadata": {},
   "outputs": [
    {
     "name": "stdout",
     "output_type": "stream",
     "text": [
      "[69, 86, 3, 100, 79]\n"
     ]
    },
    {
     "data": {
      "text/plain": [
       "6"
      ]
     },
     "execution_count": 91,
     "metadata": {},
     "output_type": "execute_result"
    }
   ],
   "source": [
    "S = [random.randint(0,100) for i in range(5)]\n",
    "print(S)\n",
    "l = 0\n",
    "r = len(S)\n",
    "quick_sort(S, l, r)"
   ]
  },
  {
   "cell_type": "code",
   "execution_count": 92,
   "metadata": {},
   "outputs": [
    {
     "data": {
      "text/plain": [
       "[3, 69, 79, 86, 100]"
      ]
     },
     "execution_count": 92,
     "metadata": {},
     "output_type": "execute_result"
    }
   ],
   "source": [
    "S"
   ]
  },
  {
   "cell_type": "code",
   "execution_count": 93,
   "metadata": {},
   "outputs": [
    {
     "data": {
      "text/plain": [
       "138382"
      ]
     },
     "execution_count": 93,
     "metadata": {},
     "output_type": "execute_result"
    }
   ],
   "source": [
    "S = np.loadtxt('QuickSort.txt')\n",
    "l = 0\n",
    "r = len(S)\n",
    "quick_sort(S, l, r)"
   ]
  },
  {
   "cell_type": "code",
   "execution_count": 48,
   "metadata": {},
   "outputs": [
    {
     "data": {
      "text/plain": [
       "array([1.000e+00, 2.000e+00, 3.000e+00, ..., 9.998e+03, 9.999e+03,\n",
       "       1.000e+04])"
      ]
     },
     "execution_count": 48,
     "metadata": {},
     "output_type": "execute_result"
    }
   ],
   "source": [
    "S"
   ]
  },
  {
   "cell_type": "code",
   "execution_count": null,
   "metadata": {},
   "outputs": [],
   "source": []
  }
 ],
 "metadata": {
  "kernelspec": {
   "display_name": "Python 3",
   "language": "python",
   "name": "python3"
  },
  "language_info": {
   "codemirror_mode": {
    "name": "ipython",
    "version": 3
   },
   "file_extension": ".py",
   "mimetype": "text/x-python",
   "name": "python",
   "nbconvert_exporter": "python",
   "pygments_lexer": "ipython3",
   "version": "3.7.4"
  }
 },
 "nbformat": 4,
 "nbformat_minor": 2
}
