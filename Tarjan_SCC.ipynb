{
 "cells": [
  {
   "cell_type": "code",
   "execution_count": 2,
   "metadata": {},
   "outputs": [],
   "source": [
    "def load_graph_txt(file_name):\n",
    "    num_v = 875714\n",
    "    graph = {i:[] for i in range(1, num_v+1)}\n",
    "    with open(file_name) as f:\n",
    "        for line in f:\n",
    "            line_split = line.split()\n",
    "            head = int(line_split[0])\n",
    "            tail = int(line_split[1])       \n",
    "            graph[head].append(tail)\n",
    "\n",
    "    return graph"
   ]
  },
  {
   "cell_type": "code",
   "execution_count": 23,
   "metadata": {},
   "outputs": [],
   "source": [
    "graph = load_graph_txt('data/SCC.txt')"
   ]
  },
  {
   "cell_type": "code",
   "execution_count": 18,
   "metadata": {},
   "outputs": [],
   "source": [
    "class TarjanSCC:\n",
    "    def __init__(self, graph, num_nodes):\n",
    "        self.graph = graph\n",
    "        self.num_nodes = num_nodes\n",
    "        self.scc = [0] * self.num_nodes\n",
    "        self.order = [-1] * self.num_nodes\n",
    "        self._t = 0\n",
    "        \n",
    "    def find_scc(self):\n",
    "        r_stack = [False] * self.num_nodes\n",
    "        stack = []\n",
    "        for i in range(self.num_nodes):\n",
    "            if self.order[i] == -1:\n",
    "                self.tarjan_dfs(i, r_stack, stack)\n",
    "        return self.scc\n",
    "\n",
    "    def tarjan_dfs(self, i, r_stack, stack):\n",
    "        stack.append(i)\n",
    "        r_stack[i] = True\n",
    "        self.order[i] = self.scc[i] = self._t\n",
    "        self._t += 1\n",
    "        for dest in self.graph[i]:\n",
    "            if self.order[dest] == -1:\n",
    "                self.tarjan_dfs(dest, r_stack, stack)\n",
    "            if r_stack[dest]:\n",
    "                self.scc[i] = min(self.scc[i], self.scc[dest])\n",
    "                \n",
    "        if self.order[i] == self.scc[i]:\n",
    "            while stack:\n",
    "                j = stack.pop()\n",
    "                self.scc[j] = self.order[i]\n",
    "                r_stack[j] = False\n",
    "                if j == i:\n",
    "                    break"
   ]
  },
  {
   "cell_type": "code",
   "execution_count": 19,
   "metadata": {},
   "outputs": [],
   "source": [
    "test = {0:[1,3], 1:[0,2], 2:[4,5], 3:[2], 4:[3,5,6],5:[7], 6:[5], 7:[6]}\n",
    "tarjan_scc = TarjanSCC(test, 8)"
   ]
  },
  {
   "cell_type": "code",
   "execution_count": 20,
   "metadata": {},
   "outputs": [
    {
     "data": {
      "text/plain": [
       "[0, 0, 2, 2, 2, 5, 5, 5]"
      ]
     },
     "execution_count": 20,
     "metadata": {},
     "output_type": "execute_result"
    }
   ],
   "source": [
    "tarjan_scc.find_scc()"
   ]
  },
  {
   "cell_type": "code",
   "execution_count": 22,
   "metadata": {},
   "outputs": [
    {
     "data": {
      "text/plain": [
       "[0, 1, 2, 4, 3, 5, 7, 6]"
      ]
     },
     "execution_count": 22,
     "metadata": {},
     "output_type": "execute_result"
    }
   ],
   "source": [
    "tarjan_scc.order"
   ]
  },
  {
   "cell_type": "code",
   "execution_count": null,
   "metadata": {},
   "outputs": [],
   "source": [
    "tarjan_scc = TarjanSCC(graph, 8)"
   ]
  }
 ],
 "metadata": {
  "kernelspec": {
   "display_name": "Python 3",
   "language": "python",
   "name": "python3"
  },
  "language_info": {
   "codemirror_mode": {
    "name": "ipython",
    "version": 3
   },
   "file_extension": ".py",
   "mimetype": "text/x-python",
   "name": "python",
   "nbconvert_exporter": "python",
   "pygments_lexer": "ipython3",
   "version": "3.8.3"
  }
 },
 "nbformat": 4,
 "nbformat_minor": 4
}
