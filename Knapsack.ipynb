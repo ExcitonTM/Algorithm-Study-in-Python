{
 "cells": [
  {
   "cell_type": "code",
   "execution_count": 93,
   "metadata": {},
   "outputs": [],
   "source": [
    "import numpy as np"
   ]
  },
  {
   "cell_type": "code",
   "execution_count": 94,
   "metadata": {},
   "outputs": [],
   "source": [
    "data = np.loadtxt('knapsack1.txt', dtype='int')"
   ]
  },
  {
   "cell_type": "code",
   "execution_count": 95,
   "metadata": {},
   "outputs": [],
   "source": [
    "capacity = data[0][0]\n",
    "items = data[1:]\n",
    "max_value_cache = dict()"
   ]
  },
  {
   "cell_type": "code",
   "execution_count": 5,
   "metadata": {},
   "outputs": [],
   "source": [
    "m = np.zeros((len(items), capacity))"
   ]
  },
  {
   "cell_type": "code",
   "execution_count": 6,
   "metadata": {},
   "outputs": [],
   "source": [
    "for i in range(len(items)):\n",
    "    for j in range(int(capacity)):\n",
    "        if items[i][1] > j:\n",
    "            m[i, j] = m[i-1, j]\n",
    "        else:\n",
    "            m[i, j] = max(m[i-1, j], m[i-1, j-items[i][1]] + items[i][0])"
   ]
  },
  {
   "cell_type": "code",
   "execution_count": 7,
   "metadata": {},
   "outputs": [
    {
     "data": {
      "text/plain": [
       "2493893.0"
      ]
     },
     "execution_count": 7,
     "metadata": {},
     "output_type": "execute_result"
    }
   ],
   "source": [
    "m[-1, -1]"
   ]
  },
  {
   "cell_type": "markdown",
   "metadata": {},
   "source": [
    "# Large data set"
   ]
  },
  {
   "cell_type": "code",
   "execution_count": 101,
   "metadata": {},
   "outputs": [],
   "source": [
    "data = np.loadtxt('knapsack_big.txt', dtype='int')"
   ]
  },
  {
   "cell_type": "code",
   "execution_count": 102,
   "metadata": {},
   "outputs": [],
   "source": [
    "capacity = data[0][0]\n",
    "items = data[1:]\n",
    "max_value_cache = dict()"
   ]
  },
  {
   "cell_type": "code",
   "execution_count": 103,
   "metadata": {},
   "outputs": [],
   "source": [
    "def max_value(n, capacity):\n",
    "    if (n == 0) or capacity <= 0:\n",
    "        return 0\n",
    "    \n",
    "    if max_value_cache.get((n-1, capacity)) == None:\n",
    "        max_value_cache[(n-1, capacity)] = max_value(n-1, capacity)\n",
    "        \n",
    "    if items[n-1][1] > capacity:\n",
    "        max_value_cache[(n, capacity)] = max_value_cache[(n-1, capacity)]\n",
    "    else:\n",
    "        if max_value_cache.get((n-1, capacity-items[n-1][1])) == None:\n",
    "            max_value_cache[(n-1, capacity-items[n-1][1])] = max_value(n-1, capacity-items[n-1][1])\n",
    "        max_value_cache[(n, capacity)] = max(max_value_cache[(n-1, capacity)], max_value_cache[(n-1, capacity-items[n-1][1])]+items[n-1][0])\n",
    "\n",
    "    return max_value_cache[(n, capacity)]\n",
    "    "
   ]
  },
  {
   "cell_type": "code",
   "execution_count": 104,
   "metadata": {},
   "outputs": [
    {
     "data": {
      "text/plain": [
       "4243395"
      ]
     },
     "execution_count": 104,
     "metadata": {},
     "output_type": "execute_result"
    }
   ],
   "source": [
    "max_value(len(items), capacity)"
   ]
  },
  {
   "cell_type": "code",
   "execution_count": 77,
   "metadata": {},
   "outputs": [
    {
     "data": {
      "text/plain": [
       "{(0, 10000): 0}"
      ]
     },
     "execution_count": 77,
     "metadata": {},
     "output_type": "execute_result"
    }
   ],
   "source": [
    "max_value_cache"
   ]
  },
  {
   "cell_type": "code",
   "execution_count": 72,
   "metadata": {},
   "outputs": [
    {
     "data": {
      "text/plain": [
       "True"
      ]
     },
     "execution_count": 72,
     "metadata": {},
     "output_type": "execute_result"
    }
   ],
   "source": [
    "a.get('b') == None"
   ]
  },
  {
   "cell_type": "code",
   "execution_count": null,
   "metadata": {},
   "outputs": [],
   "source": []
  }
 ],
 "metadata": {
  "kernelspec": {
   "display_name": "Python 3",
   "language": "python",
   "name": "python3"
  },
  "language_info": {
   "codemirror_mode": {
    "name": "ipython",
    "version": 3
   },
   "file_extension": ".py",
   "mimetype": "text/x-python",
   "name": "python",
   "nbconvert_exporter": "python",
   "pygments_lexer": "ipython3",
   "version": "3.7.4"
  }
 },
 "nbformat": 4,
 "nbformat_minor": 2
}
