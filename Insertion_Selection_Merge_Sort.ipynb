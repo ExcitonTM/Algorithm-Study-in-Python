{
 "cells": [
  {
   "cell_type": "code",
   "execution_count": 1,
   "metadata": {},
   "outputs": [],
   "source": [
    "import numpy as np"
   ]
  },
  {
   "cell_type": "markdown",
   "metadata": {},
   "source": [
    "# Insertion and Selection Sort"
   ]
  },
  {
   "cell_type": "code",
   "execution_count": 24,
   "metadata": {},
   "outputs": [],
   "source": [
    "def insertion_sort(l):\n",
    "    for j in range(1, len(l)):\n",
    "        key = l[j]\n",
    "        i = j - 1\n",
    "        while i>=0 and l[i]>key:\n",
    "            l[i+1] = l[i]\n",
    "            i = i - 1\n",
    "        l[i+1] = key"
   ]
  },
  {
   "cell_type": "code",
   "execution_count": 25,
   "metadata": {},
   "outputs": [
    {
     "name": "stdout",
     "output_type": "stream",
     "text": [
      "[1, 2, 3, 3, 5, 6]\n"
     ]
    }
   ],
   "source": [
    "l = [3,5,2,3,1,6]\n",
    "insertion_sort(l)\n",
    "print(l)"
   ]
  },
  {
   "cell_type": "code",
   "execution_count": 32,
   "metadata": {},
   "outputs": [],
   "source": [
    "def find_smallest_index(l):\n",
    "    smallest_index = 0\n",
    "    smallest_value = l[0]\n",
    "    for j in range(1, len(l)):\n",
    "        if l[j] < smallest_value:\n",
    "            smallest_value = l[j]\n",
    "            smallest_index = j\n",
    "    return smallest_index, smallest_value"
   ]
  },
  {
   "cell_type": "code",
   "execution_count": 43,
   "metadata": {},
   "outputs": [],
   "source": [
    "def selection_sort(l):\n",
    "    for j in range(0, len(l)-1):\n",
    "        smallest_index, smallest_value = find_smallest_index(l[j:])\n",
    "        l[smallest_index+j] = l[j]\n",
    "        l[j] = smallest_value"
   ]
  },
  {
   "cell_type": "code",
   "execution_count": 44,
   "metadata": {},
   "outputs": [
    {
     "name": "stdout",
     "output_type": "stream",
     "text": [
      "[1, 2, 3, 3, 5, 6]\n"
     ]
    }
   ],
   "source": [
    "l = [3,5,2,3,1,6]\n",
    "selection_sort(l)\n",
    "print(l)"
   ]
  },
  {
   "cell_type": "markdown",
   "metadata": {},
   "source": [
    "# Recursive Merge Sort"
   ]
  },
  {
   "cell_type": "code",
   "execution_count": 130,
   "metadata": {},
   "outputs": [],
   "source": [
    "def merge(L, p, q, r):\n",
    "    L_1 = L[p:q+1]\n",
    "    L_2 = L[q+1:r+1]\n",
    "    i = 0\n",
    "    j = 0\n",
    "    n = p\n",
    "    while i <= q-p and j <= r-q-1:\n",
    "        if (L_1[i] <= L_2[j]):\n",
    "            L[n] = L_1[i]\n",
    "            i = i + 1\n",
    "        else:\n",
    "            L[n] = L_2[j]\n",
    "            j = j + 1\n",
    "        n = n + 1\n",
    "        \n",
    "    if i > q-p:\n",
    "        L[n:r+1] = L_2[j:r+1]\n",
    "    else:\n",
    "        L[n:r+1] = L_1[i:q+1]    "
   ]
  },
  {
   "cell_type": "code",
   "execution_count": 133,
   "metadata": {},
   "outputs": [],
   "source": [
    "def merge_sort(L, p, r):\n",
    "    if p < r:\n",
    "        q = (p+r)//2\n",
    "        merge_sort(L, p, q)\n",
    "        merge_sort(L, q+1, r)\n",
    "        merge(L, p, q, r)"
   ]
  },
  {
   "cell_type": "code",
   "execution_count": 134,
   "metadata": {},
   "outputs": [
    {
     "name": "stdout",
     "output_type": "stream",
     "text": [
      "[1, 2, 2, 3, 4, 5, 6, 7]\n"
     ]
    }
   ],
   "source": [
    "L = [5, 2, 4, 7, 1, 3, 2, 6]\n",
    "merge_sort(L, 0, 7)\n",
    "print(L)"
   ]
  },
  {
   "cell_type": "markdown",
   "metadata": {},
   "source": [
    "# Integer Sum Search"
   ]
  },
  {
   "cell_type": "code",
   "execution_count": null,
   "metadata": {},
   "outputs": [],
   "source": [
    "def is_sum_of_two(S, x):\n",
    "    S_sorted = sorted(S)\n",
    "    \n",
    "    \n",
    "        "
   ]
  },
  {
   "cell_type": "code",
   "execution_count": 6,
   "metadata": {},
   "outputs": [
    {
     "name": "stdout",
     "output_type": "stream",
     "text": [
      "[2, -5, -3, 10, -1, 0, 6, 7, 8]\n"
     ]
    }
   ],
   "source": [
    "S = [2, -5, -3, 10, -1, 0, 6, 7, 8]\n",
    "B = S\n",
    "print(S)"
   ]
  },
  {
   "cell_type": "code",
   "execution_count": null,
   "metadata": {},
   "outputs": [],
   "source": []
  }
 ],
 "metadata": {
  "kernelspec": {
   "display_name": "Python 3",
   "language": "python",
   "name": "python3"
  },
  "language_info": {
   "codemirror_mode": {
    "name": "ipython",
    "version": 3
   },
   "file_extension": ".py",
   "mimetype": "text/x-python",
   "name": "python",
   "nbconvert_exporter": "python",
   "pygments_lexer": "ipython3",
   "version": "3.6.9"
  }
 },
 "nbformat": 4,
 "nbformat_minor": 2
}
