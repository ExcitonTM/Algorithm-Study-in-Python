{
 "cells": [
  {
   "cell_type": "code",
   "execution_count": 1,
   "metadata": {},
   "outputs": [],
   "source": [
    "import numpy as np\n",
    "import random\n",
    "import copy"
   ]
  },
  {
   "cell_type": "code",
   "execution_count": 2,
   "metadata": {},
   "outputs": [],
   "source": [
    "def load_graph_txt(file_name):\n",
    "    graph = {}\n",
    "    reverse_graph = {}\n",
    "    with open(file_name) as f:\n",
    "        for line in f:\n",
    "            line_split = line.split()\n",
    "            head = int(line_split[0])\n",
    "            tail = int(line_split[1])\n",
    "            if head in graph.keys():\n",
    "                graph[head][1].append(tail)\n",
    "            else:\n",
    "                graph[head] = [False, [tail]]\n",
    "                \n",
    "            if not head in reverse_graph.keys():\n",
    "                reverse_graph[head] = [False, []]\n",
    "                \n",
    "            if tail in reverse_graph.keys():\n",
    "                reverse_graph[tail][1].append(head)\n",
    "            else:\n",
    "                reverse_graph[tail] = [False, [head]]\n",
    "    return graph, reverse_graph"
   ]
  },
  {
   "cell_type": "code",
   "execution_count": 3,
   "metadata": {},
   "outputs": [],
   "source": [
    "graph, reverse_graph = load_graph_txt('SCC.txt')"
   ]
  },
  {
   "cell_type": "code",
   "execution_count": 4,
   "metadata": {},
   "outputs": [],
   "source": [
    "def DFS_topo(graph, s, order_dict):\n",
    "    global current_order\n",
    "    graph[s][0] = True\n",
    "    for v in graph[s][1]:\n",
    "        if graph[v][0] is False:\n",
    "            DFS_topo(graph, v, order_dict)\n",
    "    order_dict[s] = current_order\n",
    "    current_order =  current_order - 1"
   ]
  },
  {
   "cell_type": "code",
   "execution_count": 5,
   "metadata": {},
   "outputs": [],
   "source": [
    "def topo_sort(graph):\n",
    "    global current_order \n",
    "    all_vertices = graph.keys()\n",
    "    current_order = len(all_vertices)\n",
    "    order_dict = {key: None for key in all_vertices}\n",
    "    for v in all_vertices:\n",
    "        print('vertice:' + str(v))\n",
    "        if graph[v][0] is False:\n",
    "            DFS_topo(graph, v, order_dict)\n",
    "    return order_dict"
   ]
  },
  {
   "cell_type": "code",
   "execution_count": 6,
   "metadata": {},
   "outputs": [],
   "source": [
    "def DFS_SCC(graph, s, SCC_dict):\n",
    "    global SCC_num\n",
    "    SCC_dict[s] = SCC_num\n",
    "    graph[s][0] = True\n",
    "    for v in graph[s][1]:\n",
    "        if graph[v][0] is False:\n",
    "            DFS_SCC(graph, v, SCC_dict) "
   ]
  },
  {
   "cell_type": "code",
   "execution_count": 7,
   "metadata": {},
   "outputs": [],
   "source": [
    "def find_SCC(graph, order_dict):\n",
    "    global SCC_num\n",
    "    SCC_num = 0\n",
    "    ordered_vertices = [k for k, v in sorted(order_dict.items(), key=lambda item:item[1])]\n",
    "    SCC_dict = {}\n",
    "    for v in ordered_vertices:\n",
    "        print(v)\n",
    "        if graph[v][0] is False:\n",
    "            SCC_num = SCC_num + 1\n",
    "            DFS_SCC(graph, v, SCC_dict)\n",
    "    \n",
    "    return SCC_dict"
   ]
  },
  {
   "cell_type": "code",
   "execution_count": 8,
   "metadata": {},
   "outputs": [],
   "source": [
    "testcase1 = {1:[False, [2]], 2:[False, [3]], 3:[False, [1,4]], 4:[False, [5]], 5:[False, [6]], 6:[False, [4]]}\n",
    "reverse_testcase1 = {1:[False, [3]], 2:[False, [1]], 3:[False, [2]], 4:[False, [3, 6]], 5:[False, [4]], 6:[False, [5]]}"
   ]
  },
  {
   "cell_type": "code",
   "execution_count": 9,
   "metadata": {},
   "outputs": [
    {
     "name": "stdout",
     "output_type": "stream",
     "text": [
      "vertice:1\n",
      "vertice:2\n",
      "vertice:3\n",
      "vertice:4\n",
      "vertice:5\n",
      "vertice:6\n"
     ]
    }
   ],
   "source": [
    "a1 = topo_sort(reverse_testcase1)"
   ]
  },
  {
   "cell_type": "code",
   "execution_count": 11,
   "metadata": {},
   "outputs": [
    {
     "data": {
      "text/plain": [
       "{1: 4, 2: 6, 3: 5, 4: 1, 5: 3, 6: 2}"
      ]
     },
     "execution_count": 11,
     "metadata": {},
     "output_type": "execute_result"
    }
   ],
   "source": [
    "a1"
   ]
  },
  {
   "cell_type": "code",
   "execution_count": 12,
   "metadata": {},
   "outputs": [
    {
     "name": "stdout",
     "output_type": "stream",
     "text": [
      "4\n",
      "6\n",
      "5\n",
      "1\n",
      "3\n",
      "2\n"
     ]
    },
    {
     "data": {
      "text/plain": [
       "{4: 1, 5: 1, 6: 1, 1: 2, 2: 2, 3: 2}"
      ]
     },
     "execution_count": 12,
     "metadata": {},
     "output_type": "execute_result"
    }
   ],
   "source": [
    "find_SCC(testcase1, a1)"
   ]
  },
  {
   "cell_type": "code",
   "execution_count": null,
   "metadata": {},
   "outputs": [],
   "source": []
  },
  {
   "cell_type": "code",
   "execution_count": null,
   "metadata": {},
   "outputs": [],
   "source": [
    "order = topo_sort(reverse_graph)"
   ]
  },
  {
   "cell_type": "code",
   "execution_count": null,
   "metadata": {},
   "outputs": [],
   "source": [
    "SCC = find_SCC(graph, order)"
   ]
  },
  {
   "cell_type": "code",
   "execution_count": null,
   "metadata": {},
   "outputs": [],
   "source": [
    "reverse_graph"
   ]
  },
  {
   "cell_type": "code",
   "execution_count": null,
   "metadata": {},
   "outputs": [],
   "source": []
  }
 ],
 "metadata": {
  "kernelspec": {
   "display_name": "Python 3",
   "language": "python",
   "name": "python3"
  },
  "language_info": {
   "codemirror_mode": {
    "name": "ipython",
    "version": 3
   },
   "file_extension": ".py",
   "mimetype": "text/x-python",
   "name": "python",
   "nbconvert_exporter": "python",
   "pygments_lexer": "ipython3",
   "version": "3.6.9"
  }
 },
 "nbformat": 4,
 "nbformat_minor": 2
}
