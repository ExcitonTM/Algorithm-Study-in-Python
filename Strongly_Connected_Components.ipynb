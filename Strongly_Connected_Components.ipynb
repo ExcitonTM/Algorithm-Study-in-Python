{
 "cells": [
  {
   "cell_type": "code",
   "execution_count": 1,
   "metadata": {},
   "outputs": [],
   "source": [
    "import sys\n",
    "import threading\n",
    "import concurrent.futures"
   ]
  },
  {
   "cell_type": "code",
   "execution_count": 2,
   "metadata": {},
   "outputs": [],
   "source": [
    "def load_graph_txt(file_name):\n",
    "    num_v = 875714\n",
    "    graph = {i:[] for i in range(1, num_v+1)}\n",
    "    r_graph = {i:[] for i in range(1, num_v+1)}\n",
    "    with open(file_name) as f:\n",
    "        for line in f:\n",
    "            line_split = line.split()\n",
    "            head = int(line_split[0])\n",
    "            tail = int(line_split[1])\n",
    "            \n",
    "            graph[head].append(tail)\n",
    "            r_graph[tail].append(head)\n",
    "\n",
    "    return graph, r_graph"
   ]
  },
  {
   "cell_type": "code",
   "execution_count": 3,
   "metadata": {},
   "outputs": [],
   "source": [
    "graph, r_graph = load_graph_txt('SCC.txt')"
   ]
  },
  {
   "cell_type": "code",
   "execution_count": 8,
   "metadata": {},
   "outputs": [],
   "source": [
    "def topo_sort(graph):\n",
    "    all_vertices = graph.keys()\n",
    "    explored = {v_i:False for v_i in all_vertices}\n",
    "    order_stack = []\n",
    "    for v_i in all_vertices:\n",
    "        if explored[v_i] is False:\n",
    "            DFS_topo(graph, v_i, explored, order_stack)\n",
    "    return order_stack"
   ]
  },
  {
   "cell_type": "code",
   "execution_count": 9,
   "metadata": {},
   "outputs": [],
   "source": [
    "def DFS_topo(graph, v, explored, order_stack):\n",
    "    explored[v] = True\n",
    "    for w in graph[v]:\n",
    "        if explored[w] is False:\n",
    "            DFS_topo(graph, w, explored, order_stack)\n",
    "    order_stack.append(v)"
   ]
  },
  {
   "cell_type": "code",
   "execution_count": 10,
   "metadata": {},
   "outputs": [],
   "source": [
    "def find_SCC(graph, order_stack):\n",
    "    global SCC_num\n",
    "    SCC_num = 0\n",
    "    SCC_dict = dict()\n",
    "    \n",
    "    all_vertices = graph.keys()\n",
    "    explored = {v_i:False for v_i in all_vertices}\n",
    "    while len(order_stack) > 0:\n",
    "        v = order_stack.pop()\n",
    "        if explored[v] is False:\n",
    "            SCC_num = SCC_num + 1\n",
    "            DFS_SCC(graph, v, explored, SCC_dict)\n",
    "    \n",
    "    return SCC_dict"
   ]
  },
  {
   "cell_type": "code",
   "execution_count": 11,
   "metadata": {},
   "outputs": [],
   "source": [
    "def DFS_SCC(graph, v, explored, SCC_dict):\n",
    "    global SCC_num\n",
    "    SCC_dict[v] = SCC_num\n",
    "    explored[v] = True\n",
    "    for w in graph[v]:\n",
    "        if explored[w] is False:\n",
    "            DFS_SCC(graph, w, explored, SCC_dict) "
   ]
  },
  {
   "cell_type": "code",
   "execution_count": 12,
   "metadata": {},
   "outputs": [],
   "source": [
    "def main():\n",
    "    order = topo_sort(r_graph)\n",
    "    scc = find_SCC(graph, order)\n",
    "    return scc"
   ]
  },
  {
   "cell_type": "code",
   "execution_count": 13,
   "metadata": {},
   "outputs": [],
   "source": [
    "threading.stack_size(67108864) # 64MB stack\n",
    "sys.setrecursionlimit(2 ** 20)  # approx 1 million recursions\n",
    "\n",
    "with concurrent.futures.ThreadPoolExecutor() as executor:\n",
    "    future = executor.submit(main)\n",
    "    scc_result = future.result()"
   ]
  },
  {
   "cell_type": "code",
   "execution_count": 14,
   "metadata": {},
   "outputs": [],
   "source": [
    "scc_occur = {}\n",
    "for k in scc_result.keys():\n",
    "    scc_num = scc_result[k]\n",
    "    if scc_num in scc_occur.keys():\n",
    "        scc_occur[scc_num] = scc_occur[scc_num] + 1\n",
    "    else:\n",
    "        scc_occur[scc_num] = 1"
   ]
  },
  {
   "cell_type": "code",
   "execution_count": 20,
   "metadata": {},
   "outputs": [
    {
     "data": {
      "text/plain": [
       "[211, 313, 459, 968, 434821]"
      ]
     },
     "execution_count": 20,
     "metadata": {},
     "output_type": "execute_result"
    }
   ],
   "source": [
    "sorted(scc_occur.values())[-5:]"
   ]
  },
  {
   "cell_type": "code",
   "execution_count": null,
   "metadata": {},
   "outputs": [],
   "source": [
    "testcase1 = {1:[2], 2:[3], 3:[1,4], 4:[5], 5:[6], 6:[4]}\n",
    "reverse_testcase1 = {1:[3], 2:[1], 3:[2], 4:[3, 6], 5:[4], 6:[5]}"
   ]
  },
  {
   "cell_type": "code",
   "execution_count": null,
   "metadata": {},
   "outputs": [],
   "source": []
  }
 ],
 "metadata": {
  "kernelspec": {
   "display_name": "Python 3",
   "language": "python",
   "name": "python3"
  },
  "language_info": {
   "codemirror_mode": {
    "name": "ipython",
    "version": 3
   },
   "file_extension": ".py",
   "mimetype": "text/x-python",
   "name": "python",
   "nbconvert_exporter": "python",
   "pygments_lexer": "ipython3",
   "version": "3.8.3"
  }
 },
 "nbformat": 4,
 "nbformat_minor": 2
}
